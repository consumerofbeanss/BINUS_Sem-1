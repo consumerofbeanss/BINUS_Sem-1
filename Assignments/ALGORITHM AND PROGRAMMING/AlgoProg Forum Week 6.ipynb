{
 "cells": [
  {
   "cell_type": "code",
   "execution_count": 3,
   "metadata": {},
   "outputs": [
    {
     "name": "stdout",
     "output_type": "stream",
     "text": [
      "{'gold': 550, 'pouch': ['flint', 'twine', 'gemstone'], 'backpack': ['bedroll', 'bread loaf', 'xylophone'], 'pocket': ['seashell', 'strange berry', 'lint']}\n"
     ]
    }
   ],
   "source": [
    "#Exercise 1\n",
    "\n",
    "inventory = {\n",
    " 'gold' : 500,\n",
    " 'pouch' : ['flint', 'twine', 'gemstone'],\n",
    " 'backpack' : ['xylophone','dagger', 'bedroll','bread loaf']\n",
    "}\n",
    "\n",
    "inventory[\"pocket\"] = [\"seashell\", \"strange berry\", \"lint\"]\n",
    "inventory[\"backpack\"].sort()\n",
    "inventory[\"backpack\"].remove(\"dagger\")\n",
    "inventory[\"gold\"] += 50\n",
    "\n",
    "print(inventory)"
   ]
  },
  {
   "cell_type": "code",
   "execution_count": 2,
   "metadata": {},
   "outputs": [
    {
     "name": "stdout",
     "output_type": "stream",
     "text": [
      "Item:  banana\n",
      "Price:  4\n",
      "Stock:  6\n",
      "Item:  apple\n",
      "Price:  2\n",
      "Stock:  9\n",
      "Item:  orange\n",
      "Price:  1.5\n",
      "Stock:  13\n",
      "Item:  pear\n",
      "Price:  3\n",
      "Stock:  0\n",
      "Item:  banana\n",
      "Total item price is:  24\n",
      "Item:  apple\n",
      "Total item price is:  18\n",
      "Item:  orange\n",
      "Total item price is:  19.5\n",
      "Item:  pear\n",
      "Total item price is:  0\n",
      "Total price is:  61.5\n"
     ]
    }
   ],
   "source": [
    "#Exercise 2\n",
    "\n",
    "prices = {\n",
    "    \"banana\": 4,\n",
    "    \"apple\": 2,\n",
    "    \"orange\": 1.5,\n",
    "    \"pear\": 3\n",
    "}\n",
    "\n",
    "stock = {\n",
    "    \"banana\": 6,\n",
    "    \"apple\": 9,\n",
    "    \"orange\": 13,\n",
    "    \"pear\": 0\n",
    "}\n",
    "\n",
    "for i in prices:\n",
    "    print(\"Item: \", i)\n",
    "    print(\"Price: \", prices[i])\n",
    "    print(\"Stock: \", stock[i])\n",
    "\n",
    "total = 0\n",
    "for i in prices:\n",
    "    print(\"Item: \", i)\n",
    "    itemTot = prices[i]*stock[i]\n",
    "    print(\"Total item price is: \", itemTot)\n",
    "    total = total+itemTot\n",
    "\n",
    "print(\"Total price is: \", total)"
   ]
  },
  {
   "cell_type": "code",
   "execution_count": 26,
   "metadata": {},
   "outputs": [
    {
     "name": "stdout",
     "output_type": "stream",
     "text": [
      "Stock:  Out of stock\n",
      "Total price =  0\n"
     ]
    }
   ],
   "source": [
    "#Exercise 3\n",
    "\n",
    "groceries = [\"banana\", \"orange\", \"apple\"]\n",
    "\n",
    "stock = {\n",
    " \"banana\": 6,\n",
    " \"apple\": 0,\n",
    " \"orange\": 32,\n",
    " \"pear\": 15\n",
    "}\n",
    "prices = {\n",
    " \"banana\": 4,\n",
    " \"apple\": 2,\n",
    " \"orange\": 1.5,\n",
    " \"pear\": 3\n",
    "}\n",
    "\n",
    "def compute_bill(food):\n",
    "    total = 0\n",
    "    list_food = food.split(\" \")\n",
    "    for item in list_food:\n",
    "        if stock[item]>0:\n",
    "            total += prices[item]\n",
    "            stock[item] -= 1\n",
    "        elif stock[item]==0:\n",
    "            stock[item] = \"Out of stock\"\n",
    "        print(\"Stock: \", stock[item])\n",
    "    return total\n",
    "\n",
    "food = input(\"Enter food: \")\n",
    "food_price = compute_bill(food)\n",
    "\n",
    "print(\"Total price = \", food_price)\n",
    "\n"
   ]
  },
  {
   "cell_type": "code",
   "execution_count": 13,
   "metadata": {},
   "outputs": [
    {
     "name": "stdout",
     "output_type": "stream",
     "text": [
      "Name:  Eren\n",
      "Homework:  [90.0, 97.0, 75.0, 92.0]\n",
      "Quiz:  [88.0, 40.0, 94.0]\n",
      "Test:  [75.0, 90.0]\n",
      "Name:  Mikasa\n",
      "Homework:  [100.0, 92.0, 98.0, 100.0]\n",
      "Quiz:  [82.0, 83.0, 91.0]\n",
      "Test:  [89.0, 97.0]\n",
      "Name:  Armin\n",
      "Homework:  [0.0, 87.0, 75.0, 22.0]\n",
      "Quiz:  [0.0, 75.0, 78.0]\n",
      "Test:  [100.0, 100.0]\n",
      "Eren Total Score: 80.5\n",
      "Eren Letter grade: B \n",
      "\n",
      "Mikasa Total Score: 91.1\n",
      "Mikasa Letter grade: A \n",
      "\n",
      "Armin Total Score: 79.9\n",
      "Armin Letter grade: C \n",
      "\n"
     ]
    }
   ],
   "source": [
    "#Exercise 4\n",
    "\n",
    "eren = {\n",
    " \"name\": \"Eren\",\n",
    " \"homework\": [90.0,97.0,75.0,92.0],\n",
    " \"quizzes\": [88.0,40.0,94.0],\n",
    " \"tests\": [75.0,90.0]\n",
    "}\n",
    "mikasa = {\n",
    "\"name\": \"Mikasa\",\n",
    "\"homework\": [100.0, 92.0, 98.0, 100.0],\n",
    "\"quizzes\": [82.0, 83.0, 91.0],\n",
    "\"tests\": [89.0, 97.0]\n",
    "}\n",
    "armin = {\n",
    "\"name\": \"Armin\",\n",
    "\"homework\": [0.0, 87.0, 75.0, 22.0],\n",
    "\"quizzes\": [0.0, 75.0, 78.0],\n",
    "\"tests\": [100.0, 100.0]\n",
    "}\n",
    "\n",
    "students = [eren, mikasa, armin]\n",
    "\n",
    "for i in students:\n",
    "    print(\"Name: \", i[\"name\"])\n",
    "    print(\"Homework: \", i[\"homework\"])\n",
    "    print(\"Quiz: \", i[\"quizzes\"])\n",
    "    print(\"Test: \", i[\"tests\"])\n",
    "\n",
    "def average(numbers):\n",
    "    total = float(sum(numbers))\n",
    "    avr = total/len(numbers)\n",
    "    return avr\n",
    "\n",
    "def get_average(student):\n",
    "    homework = average(student[\"homework\"])\n",
    "    quizzes = average(student[\"quizzes\"])\n",
    "    tests = average(student[\"tests\"])\n",
    "    weight = (homework*0.1)+(quizzes*0.3)+(tests*0.6)\n",
    "    return weight\n",
    "\n",
    "def get_letter_grade(score):\n",
    "    if score>=90:\n",
    "        return \"A\"\n",
    "    elif score>=80:\n",
    "        return \"B\"\n",
    "    elif score>=70:\n",
    "        return \"C\"\n",
    "    elif score>=60:\n",
    "        return \"D\"\n",
    "    else:\n",
    "        return \"F\"\n",
    "\n",
    "for i in students:\n",
    "    print(i[\"name\"] + \" Average Score:\", round(get_average(i), 1))\n",
    "    print(i[\"name\"] + \" Letter grade:\", get_letter_grade(get_average(i)), \"\\n\")\n",
    "\n",
    "def get_class_average(students):\n",
    "    results = []\n",
    "    for i in students:\n",
    "        results.append(get_average(i))\n",
    "    return average(results)"
   ]
  }
 ],
 "metadata": {
  "kernelspec": {
   "display_name": "Python 3.10.7 64-bit",
   "language": "python",
   "name": "python3"
  },
  "language_info": {
   "codemirror_mode": {
    "name": "ipython",
    "version": 3
   },
   "file_extension": ".py",
   "mimetype": "text/x-python",
   "name": "python",
   "nbconvert_exporter": "python",
   "pygments_lexer": "ipython3",
   "version": "3.10.7"
  },
  "orig_nbformat": 4,
  "vscode": {
   "interpreter": {
    "hash": "aee8b7b246df8f9039afb4144a1f6fd8d2ca17a180786b69acc140d282b71a49"
   }
  }
 },
 "nbformat": 4,
 "nbformat_minor": 2
}
