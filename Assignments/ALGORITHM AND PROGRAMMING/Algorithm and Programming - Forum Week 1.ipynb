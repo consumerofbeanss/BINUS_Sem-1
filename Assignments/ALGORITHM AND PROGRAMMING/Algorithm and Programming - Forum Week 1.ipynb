{
 "cells": [
  {
   "cell_type": "code",
   "execution_count": null,
   "id": "2aff2589",
   "metadata": {},
   "outputs": [],
   "source": [
    "#1. Write a Python program which accepts the radius of a circle from the user and compute the area\n",
    "rad = eval(input(\"Enter the radius of a circle: \"))\n",
    "\n",
    "area = 3.14*(rad**2)\n",
    "\n",
    "print(\"The area of your circle is \", area)\n"
   ]
  },
  {
   "cell_type": "code",
   "execution_count": null,
   "id": "c076081f",
   "metadata": {},
   "outputs": [],
   "source": [
    "#2. Write a Python program which accepts the user's first and last name and print them in reverse order with a space between them.\n",
    "first = input(\"Enter your first name: \")\n",
    "last = input(\"Enter your last name: \")\n",
    "print(\"Hello there,\" , last , first)\n"
   ]
  },
  {
   "cell_type": "code",
   "execution_count": null,
   "id": "76f483e6",
   "metadata": {},
   "outputs": [],
   "source": [
    "#3. Write a Python program to display the first and last colors from the following list.\n",
    "#color_list = [\"Red\",\"Green\",\"White\",\"Black\"]\n",
    "\n",
    "colorList = [\"Red\", \"Green\", \"White\", \"Black\"]\n",
    "print(colorList[0])\n",
    "print(colorList[-1])"
   ]
  },
  {
   "cell_type": "code",
   "execution_count": null,
   "id": "8887b518",
   "metadata": {},
   "outputs": [],
   "source": [
    "#4. Write a Python program that accepts an integer (n) and computes the value of n+nn+nnn.\n",
    "\n",
    "n = int(input(\"Enter an integer: \"))\n",
    "\n",
    "if type(n) == float:\n",
    "    print(\"Enter an integer, please\")\n",
    "else:\n",
    "    res = n+((n*10)+n)+((n*100)+(n*10)+n)\n",
    "\n",
    "print(\"The result is\",res)"
   ]
  },
  {
   "cell_type": "code",
   "execution_count": null,
   "id": "1c4aaa28",
   "metadata": {},
   "outputs": [],
   "source": [
    "#5. Write a Python program to get the volume of a sphere with radius 6. \n",
    "#The volume of the sphere is : V = 4/3 × π × r3 = π × d3/6.\n",
    "\n",
    "rad = eval(input(\"Enter the radius of a sphere: \"))\n",
    "\n",
    "vol = round((4/3 * 3.14 * rad**3), 2)\n",
    "\n",
    "print(\"The volume of the sphere with the radius\", rad, \"is \", vol)"
   ]
  },
  {
   "cell_type": "code",
   "execution_count": null,
   "id": "34ef9783",
   "metadata": {},
   "outputs": [],
   "source": [
    "#6. Write a Python program to get the difference between a given number and 17, if the number is greater than 17 return\n",
    "#double the absolute difference.\n",
    "\n",
    "x = eval(input(\"Enter a number: \"))\n",
    "if x < 17:\n",
    "    print(\"The number is below 17\")\n",
    "elif x > 17:\n",
    "    print((x - 17) * 2)"
   ]
  },
  {
   "cell_type": "code",
   "execution_count": null,
   "id": "94fe3592",
   "metadata": {},
   "outputs": [],
   "source": [
    "#7. Write a Python program to calculate the sum of three given numbers, if the values are equal then return thrice of their sum.\n",
    "\n",
    "num1 = eval(input(\"Enter a number: \"))\n",
    "num2 = eval(input(\"Enter another number: \"))\n",
    "num3 = eval(input(\"Enter yet another number: \"))\n",
    "sum = num1 + num2 + num3\n",
    "\n",
    "if num1 == num2 == num3:\n",
    "    print(sum * 3)\n",
    "else:\n",
    "    print(sum)"
   ]
  },
  {
   "cell_type": "code",
   "execution_count": null,
   "id": "f3c40a6a",
   "metadata": {},
   "outputs": [],
   "source": [
    "#8. Write a Python program to find whether a given number (accept from the user) is even or odd, print out an appropriate message to the user.\n",
    "\n",
    "num = eval(input(\"Enter a number: \"))\n",
    "if num%2 == 0:\n",
    "    print(\"The number is an even number.\")\n",
    "elif num%2 == 1:\n",
    "    print(\"The number is an odd number.\")"
   ]
  },
  {
   "cell_type": "code",
   "execution_count": null,
   "id": "42a240a3",
   "metadata": {},
   "outputs": [],
   "source": [
    "#9. Write a Python program to test whether a letter is a vowel or not.\n",
    "\n",
    "let = input(\"Enter a letter: \")\n",
    "if let == \"a\" or let == \"e\" or let == \"i\" or let == \"o\" or let == \"u\" or let == \"A\" or let == \"E\" or let == \"I\" or let == \"O\" or let == \"U\":\n",
    "    print(\"Yea is vowel.\")\n",
    "else:\n",
    "    print(\"Nah is no vowel.\")"
   ]
  },
  {
   "cell_type": "code",
   "execution_count": null,
   "id": "7cbc2f4b",
   "metadata": {},
   "outputs": [],
   "source": [
    "#10.Write a Python program to check whether a specified value is contained in a group of values.\n",
    "\n",
    "numList = [1, 2, 3, 4, 5, 6, 7, 8, 9, 0]\n",
    "num = eval(input(\"Enter a number: \"))\n",
    "if num in numList:\n",
    "    print(\"The number is on the list.\")\n",
    "else :\n",
    "    print(\"The number is not on the list.\")"
   ]
  },
  {
   "cell_type": "code",
   "execution_count": null,
   "id": "ae329aa4",
   "metadata": {},
   "outputs": [],
   "source": [
    "#11.Write a Python program to create a histogram from a given list of integers.\n",
    "\n",
    "num = [0, 1, 1, 1, 1, 2, 3, 3, 7, 23, 23, 23, 45]\n",
    "histogram = {}\n",
    "for i in num:\n",
    "    histogram[i] = histogram.get(i, 0)+1\n",
    "print(histogram)"
   ]
  },
  {
   "cell_type": "code",
   "execution_count": null,
   "id": "dc3b2697",
   "metadata": {},
   "outputs": [],
   "source": [
    "#12.Write a Python program to print all even numbers from a given numbers list in the same order.\n",
    "#Sample numbers list\n",
    "#numbers = [\n",
    " #386, 462, 47, 418, 907, 344, 236, 375, 823, 566, 597, 978, 328, 615, 953, 345,\n",
    "# 399, 162, 758, 219, 918, 237, 412, 566, 826, 248, 866, 950, 626, 949, 687, 217,\n",
    "# 815, 67, 104, 58, 512, 24, 892, 894, 767, 553, 81, 379, 843, 831, 445, 742, 717,\n",
    "# 958,743, 527 ]\n",
    "\n",
    "list1 = [ 386, 462, 47, 418, 907, 344, 236, 375, 823, 566, 597, 978, 328, 615, 953, 345, 399, 162, 758, 219, 918, 237, 412, 566, 826, 248, 866, 950, 626, 949, 687, 217, 815, 67, 104, 58, 512, 24, 892, 894, 767, 553, 81, 379, 843, 831, 445, 742, 717,958,743, 521]\n",
    "list2 = []\n",
    "\n",
    "for i in list1:\n",
    "    if i%2 == 0:\n",
    "        list2.append(i)\n",
    "list2.sort()\n",
    "print(list2)"
   ]
  },
  {
   "cell_type": "code",
   "execution_count": null,
   "id": "1af1920d",
   "metadata": {},
   "outputs": [],
   "source": [
    "#13.Write a Python program that will accept the base and height of a triangle and compute the area.\n",
    "\n",
    "base = eval(input(\"Enter the base length of a triangle: \"))\n",
    "height = eval(input(\"Enter the height of a triangle: \"))\n",
    "\n",
    "area = round(((base*height)/2), 2)\n",
    "\n",
    "print(\"The area of the triangle is\", area)"
   ]
  },
  {
   "cell_type": "code",
   "execution_count": null,
   "id": "b147321f",
   "metadata": {},
   "outputs": [],
   "source": [
    "#14.Write a Python program to get the least common multiple (LCM) of two positive integers.\n",
    "\n",
    "num1 = eval(input(\"Enter a number: \"))\n",
    "num2 = eval(input(\"Enter another number: \"))\n",
    "\n",
    "one = num1\n",
    "two = num2\n",
    "\n",
    "list1 = []\n",
    "list2 = []\n",
    "list1.append(one)\n",
    "list2.append(two)\n",
    "\n",
    "while num1 < 500:\n",
    "    num1 += one\n",
    "    list1.append(num1)\n",
    "    num2 += two\n",
    "    list2.append(num2)\n",
    "set1 = set(list1)\n",
    "set2 = set(list2)\n",
    "intersection = set1.intersection(set2)\n",
    "list3 = list(intersection)\n",
    "list3.sort()\n",
    "print(\"The LCM is :\",list3[0], )"
   ]
  },
  {
   "cell_type": "code",
   "execution_count": null,
   "id": "7d4017a5",
   "metadata": {},
   "outputs": [],
   "source": [
    "#15. Write a Python program to sum of three given integers. However, if two values are equal sum will be zero.\n",
    "\n",
    "num1 = eval(input(\"Enter a number: \"))\n",
    "num2 = eval(input(\"Enter another number: \"))\n",
    "num3 = eval(input(\"Enter yet another number: \"))\n",
    "sum = num1 + num2 + num3\n",
    "\n",
    "if num1 == num2 or num2 == num3 or num3 == num1:\n",
    "    print(0)\n",
    "else:\n",
    "    print(sum)"
   ]
  },
  {
   "cell_type": "code",
   "execution_count": null,
   "id": "439c5297",
   "metadata": {},
   "outputs": [],
   "source": [
    "#16.Write a Python program to solve (x + y) * (x + y)\n",
    "#Sample Data : x = 4, y = 3\n",
    "#Expected Output : (4 + 3) ^ 2) = 49\n",
    "\n",
    "x = eval(input(\"Enter x: \"))\n",
    "y = eval(input(\"Enter y: \"))\n",
    "\n",
    "res = (x+y)**2\n",
    "\n",
    "print(\"(\",x,\"+\",y,\") * (\",x,\"+\",y,\") =\",res)"
   ]
  },
  {
   "cell_type": "code",
   "execution_count": null,
   "id": "9a614961",
   "metadata": {},
   "outputs": [],
   "source": [
    "#17.Write a Python program to compute the future value of a specified principal amount, rate of interest, and a number of years.\n",
    "#Sample Data : amt = 10000, int = 3.5, years = 7\n",
    "#Expected Output : 12722.79\n",
    "\n",
    "amt = eval(input(\"Enter amount: \"))\n",
    "int = eval(input(\"Enter interest: \"))\n",
    "year = eval(input(\"Enter years: \"))\n",
    "\n",
    "fut = round((amt * (1 + int / 100) **year), 2)\n",
    "print(\"The future value is\",fut)"
   ]
  },
  {
   "cell_type": "code",
   "execution_count": null,
   "id": "2cdd8b9b",
   "metadata": {},
   "outputs": [],
   "source": [
    "#18. Write a Python program to compute the distance between the points (x1, y1) and (x2, y2).\n",
    "import math\n",
    "\n",
    "x1 = eval(input(\"Enter X1: \"))\n",
    "y1 = eval(input(\"Enter Y1: \"))\n",
    "x2 = eval(input(\"Enter X2: \"))\n",
    "y2 = eval(input(\"Enter Y2: \"))\n",
    "\n",
    "dist = round((math.sqrt(((x2-x1)**2 + (y2-y1)**2))), 2)\n",
    "print(\"The distance will be\",dist)"
   ]
  },
  {
   "cell_type": "code",
   "execution_count": null,
   "id": "da8817b1",
   "metadata": {},
   "outputs": [],
   "source": [
    "#19.Write a python program to sum of the first n positive integers.\n",
    "\n",
    "num1 = eval(input(\"Enter Number: \"))\n",
    "x = 0\n",
    "listx = []\n",
    "while x < (num1):\n",
    "    x += 1\n",
    "    listx.append(x)\n",
    "sum1 = sum(listx)\n",
    "print(\"The sum will be :\", sum1)"
   ]
  },
  {
   "cell_type": "code",
   "execution_count": null,
   "id": "a88efafb",
   "metadata": {},
   "outputs": [],
   "source": [
    "#20.Write a Python program to convert height (in feet and inches) to centimeters.\n",
    "hfeet = eval(input(\"Enter height in feet: \"))\n",
    "hinch = eval(input(\"Enter height in inches: \"))\n",
    "\n",
    "feet = hfeet * 30.48\n",
    "inch = hinch * 2.54\n",
    "\n",
    "height = feet+inch\n",
    "\n",
    "print(\"Your height is \", height, \"cm\")\n"
   ]
  },
  {
   "cell_type": "code",
   "execution_count": null,
   "id": "9b9abdbf",
   "metadata": {},
   "outputs": [],
   "source": [
    "#21.Write a Python program to calculate the hypotenuse of a right angled triangle.\n",
    "\n",
    "import math\n",
    "num1 = eval(input(\"Enter side 1: \"))\n",
    "num2 = eval(input(\"Enter side 2: \"))\n",
    "\n",
    "hypo = math.sqrt((num1**2) + (num2**2))\n",
    "print(\"The hypotenuse is\", hypo)"
   ]
  },
  {
   "cell_type": "code",
   "execution_count": null,
   "id": "27c58f29",
   "metadata": {},
   "outputs": [],
   "source": [
    "#22.Write a Python program to calculate body mass index.\n",
    "\n",
    "mass = eval(input(\"Enter your weight in kg: \"))\n",
    "height = eval(input(\"Enter your height in m: \"))\n",
    "\n",
    "bmi = round((mass / (height **2)), 2)\n",
    "\n",
    "print(\"Your Body Mass Index is\", bmi)"
   ]
  },
  {
   "cell_type": "code",
   "execution_count": null,
   "id": "51204763",
   "metadata": {},
   "outputs": [],
   "source": [
    "#23.Write a Python program to calculate midpoints of a line.\n",
    "\n",
    "x1 = eval(input(\"Enter X1: \"))\n",
    "y1 = eval(input(\"Enter Y1: \"))\n",
    "x2 = eval(input(\"Enter X2: \"))\n",
    "y2 = eval(input(\"Enter Y2: \"))\n",
    "\n",
    "xmid = ((x1 + x2)/2)\n",
    "ymid = ((y1 + y2)/2)\n",
    "print(\"The midpoint of the line is in (\",xmid,\",\",ymid,\")\")"
   ]
  },
  {
   "cell_type": "code",
   "execution_count": null,
   "id": "7732c0d3",
   "metadata": {},
   "outputs": [],
   "source": [
    "#24.Write a program which will find all such numbers which are divisible by 7 but are not a multiple of 5, between 2000 and\n",
    "#3200 (both included). The numbers obtained should be printed in a comma-separated sequence on a single line.\n",
    "#Hints:\n",
    "#Consider use range(#begin, #end) method\n",
    "\n",
    "numbers = range(2000,3201)\n",
    "list1 = []\n",
    "for x in numbers:\n",
    "    list1.append(x)\n",
    "\n",
    "list2 = []\n",
    "for y in list1:\n",
    "    if y%5 != 0 and y%7 == 0:\n",
    "        list2.append(y)\n",
    "\n",
    "print(*list2, sep=\", \")"
   ]
  }
 ],
 "metadata": {
  "kernelspec": {
   "display_name": "Python 3.10.7 64-bit",
   "language": "python",
   "name": "python3"
  },
  "language_info": {
   "codemirror_mode": {
    "name": "ipython",
    "version": 3
   },
   "file_extension": ".py",
   "mimetype": "text/x-python",
   "name": "python",
   "nbconvert_exporter": "python",
   "pygments_lexer": "ipython3",
   "version": "3.10.7"
  },
  "vscode": {
   "interpreter": {
    "hash": "aee8b7b246df8f9039afb4144a1f6fd8d2ca17a180786b69acc140d282b71a49"
   }
  }
 },
 "nbformat": 4,
 "nbformat_minor": 5
}
